{
 "cells": [
  {
   "cell_type": "markdown",
   "metadata": {},
   "source": [
    "# Triangulation\n",
    "\n",
    "The goal of the triangulation exercise is to align the attributed building facades from the machine learning workflow with building footprints.\n",
    "\n",
    "The documention for preparing the data for traingulation starting from the `detection_classification_predictions.csv` obtained from inference is located here: https://github.com/developmentseed/housing-passports-v2/blob/main/triangulation/README.md. The documentation for running triangulation is located here: https://github.com/developmentseed/housing-passports-v2/blob/main/triangulation/COMPILING_FILE_INTO_DB.md.\n",
    "\n",
    "The result of the triangulation for Dominica is located here: `s3://hp-deliverables-v2/triangulation_results/`. Specifically, the buildings with the predictions attached to them are in `s3://hp-deliverables-v2/triangulation_results/dominica_buildings.geojson`.\n",
    "\n",
    "Here is a look at the triangulation result:\n",
    "![alt text](images/triangulation_result.png)"
   ]
  }
 ],
 "metadata": {
  "language_info": {
   "name": "python"
  }
 },
 "nbformat": 4,
 "nbformat_minor": 2
}
